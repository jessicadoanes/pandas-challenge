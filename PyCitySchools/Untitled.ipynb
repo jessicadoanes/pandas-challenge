{
 "cells": [
  {
   "cell_type": "code",
   "execution_count": 1,
   "id": "04277e08",
   "metadata": {},
   "outputs": [],
   "source": [
    "import os \n",
    "import csv "
   ]
  },
  {
   "cell_type": "code",
   "execution_count": 2,
   "id": "63ab9530",
   "metadata": {},
   "outputs": [
    {
     "ename": "FileNotFoundError",
     "evalue": "[Errno 2] No such file or directory: 'users/jessicadoanes/Documents/GT Bootcamp Assignments_Local/3/python-challenge/PyPoll/skylar.csv'",
     "output_type": "error",
     "traceback": [
      "\u001b[0;31m---------------------------------------------------------------------------\u001b[0m",
      "\u001b[0;31mFileNotFoundError\u001b[0m                         Traceback (most recent call last)",
      "\u001b[0;32m<ipython-input-2-e79e06e6afc0>\u001b[0m in \u001b[0;36m<module>\u001b[0;34m\u001b[0m\n\u001b[1;32m     13\u001b[0m \u001b[0;34m\u001b[0m\u001b[0m\n\u001b[1;32m     14\u001b[0m \u001b[0;31m#Open and read csv\u001b[0m\u001b[0;34m\u001b[0m\u001b[0;34m\u001b[0m\u001b[0;34m\u001b[0m\u001b[0m\n\u001b[0;32m---> 15\u001b[0;31m \u001b[0;32mwith\u001b[0m \u001b[0mopen\u001b[0m \u001b[0;34m(\u001b[0m\u001b[0melection_data_csv\u001b[0m\u001b[0;34m,\u001b[0m \u001b[0;34m'r'\u001b[0m\u001b[0;34m)\u001b[0m \u001b[0;32mas\u001b[0m \u001b[0mcsvfile\u001b[0m\u001b[0;34m:\u001b[0m\u001b[0;34m\u001b[0m\u001b[0;34m\u001b[0m\u001b[0m\n\u001b[0m\u001b[1;32m     16\u001b[0m     \u001b[0melection_data\u001b[0m \u001b[0;34m=\u001b[0m \u001b[0mcsv\u001b[0m\u001b[0;34m.\u001b[0m\u001b[0mreader\u001b[0m\u001b[0;34m(\u001b[0m\u001b[0mcsvfile\u001b[0m\u001b[0;34m,\u001b[0m \u001b[0mdelimiter\u001b[0m\u001b[0;34m=\u001b[0m\u001b[0;34m\",\"\u001b[0m\u001b[0;34m)\u001b[0m\u001b[0;34m\u001b[0m\u001b[0;34m\u001b[0m\u001b[0m\n\u001b[1;32m     17\u001b[0m \u001b[0;31m# Read the headers\u001b[0m\u001b[0;34m\u001b[0m\u001b[0;34m\u001b[0m\u001b[0;34m\u001b[0m\u001b[0m\n",
      "\u001b[0;31mFileNotFoundError\u001b[0m: [Errno 2] No such file or directory: 'users/jessicadoanes/Documents/GT Bootcamp Assignments_Local/3/python-challenge/PyPoll/skylar.csv'"
     ]
    }
   ],
   "source": [
    "\n",
    "\n",
    "# Path to collect and read data from source\n",
    "election_data_csv = os.path.join('users/jessicadoanes/Documents/GT Bootcamp Assignments_Local/3/python-challenge/PyPoll/skylar.csv')\n",
    "\n",
    "# Variables \n",
    "votes = 0 \n",
    "total_votes = 0\n",
    "candidates = 0\n",
    "percent_votes = 0\n",
    "Khan_percentage = 0 \n",
    "Correy_percentage= 0\n",
    "Li_percentage = 0\n",
    "O_Tooley_percentage = 0\n",
    "\n",
    "#Open and read csv\n",
    "with open (election_data_csv, 'r') as csvfile:\n",
    "    election_data = csv.reader(csvfile, delimiter=\",\")\n",
    "# Read the headers \n",
    "    csv_header = next(election_data)\n",
    "    print(f\"CSV Header: {csv_header}\")\n",
    "    # Read the header of each row \n",
    "    for row in election_data_csv:\n",
    "       votes = int(election_data(row[0]))\n",
    "       county = str(election_data(row[1]))\n",
    "       candidates = str(election_data(row[2]))\n",
    "\n",
    "# Define the function \n",
    "def print_results(election_data):\n",
    "    print(candidates)"
   ]
  },
  {
   "cell_type": "code",
   "execution_count": null,
   "id": "4f8a313d",
   "metadata": {},
   "outputs": [],
   "source": []
  },
  {
   "cell_type": "code",
   "execution_count": null,
   "id": "f65e0f23",
   "metadata": {},
   "outputs": [],
   "source": []
  },
  {
   "cell_type": "code",
   "execution_count": null,
   "id": "170b3f78",
   "metadata": {},
   "outputs": [],
   "source": []
  },
  {
   "cell_type": "code",
   "execution_count": null,
   "id": "9242a43a",
   "metadata": {},
   "outputs": [],
   "source": []
  },
  {
   "cell_type": "code",
   "execution_count": null,
   "id": "af27957d",
   "metadata": {},
   "outputs": [],
   "source": []
  },
  {
   "cell_type": "code",
   "execution_count": null,
   "id": "d8f3b37b",
   "metadata": {},
   "outputs": [],
   "source": []
  },
  {
   "cell_type": "code",
   "execution_count": null,
   "id": "cada0a09",
   "metadata": {},
   "outputs": [],
   "source": []
  }
 ],
 "metadata": {
  "kernelspec": {
   "display_name": "PythonData",
   "language": "python",
   "name": "pythondata"
  },
  "language_info": {
   "codemirror_mode": {
    "name": "ipython",
    "version": 3
   },
   "file_extension": ".py",
   "mimetype": "text/x-python",
   "name": "python",
   "nbconvert_exporter": "python",
   "pygments_lexer": "ipython3",
   "version": "3.8.5"
  }
 },
 "nbformat": 4,
 "nbformat_minor": 5
}
