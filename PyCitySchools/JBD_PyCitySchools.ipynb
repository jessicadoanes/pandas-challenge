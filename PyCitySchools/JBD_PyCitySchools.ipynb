import pandas as pandas
school_data_to_load = "Resources/schools_complete.csv
student_data_to_load = "Resources/students_complete.csv"
